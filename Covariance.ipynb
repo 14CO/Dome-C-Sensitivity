{
 "cells": [
  {
   "cell_type": "code",
   "execution_count": 1,
   "id": "75ba14cb",
   "metadata": {},
   "outputs": [],
   "source": [
    "import os\n",
    "\n",
    "import numpy as np\n",
    "import matplotlib as mpl\n",
    "import matplotlib.pyplot as plt\n",
    "import pandas as pd\n",
    "\n",
    "from tqdm import tqdm\n",
    "from cycler import cycler\n",
    "\n",
    "from scipy.optimize import minimize\n",
    "\n",
    "from scipy.stats import norm\n",
    "\n",
    "from astropy.io import fits\n",
    "\n",
    "from coprofile import COGenerator\n",
    "\n",
    "from likelihood import ModelLikelihood, FunctionModelLikelihood, SampleInverter\n",
    "\n",
    "import pyunfold as pu"
   ]
  },
  {
   "cell_type": "code",
   "execution_count": 59,
   "id": "2f2b0f78",
   "metadata": {},
   "outputs": [],
   "source": [
    "def log_gauss(x, cov):\n",
    "    log_det = np.log(np.linalg.det(2*np.pi*cov))\n",
    "    cov_inv = np.linalg.inv(cov)\n",
    "    return -(np.matmul(x, np.matmul(cov_inv, x)) + log_det)/2"
   ]
  },
  {
   "cell_type": "code",
   "execution_count": 30,
   "id": "5c6ee76e",
   "metadata": {},
   "outputs": [],
   "source": [
    "def unif_dist(low, high):\n",
    "    return (low + high)/2, (high-low)**2/12"
   ]
  },
  {
   "cell_type": "code",
   "execution_count": 3,
   "id": "bd77cb77",
   "metadata": {},
   "outputs": [],
   "source": [
    "colors = mpl.cm.viridis(np.linspace(0., 1., 5))\n",
    "\n",
    "axes_style = { 'grid'      : 'True',\n",
    "               'labelsize' : '14',\n",
    "               'labelpad'  : '8.0',\n",
    "               'prop_cycle': cycler('color', colors) }\n",
    "grid_style = { 'alpha'     : '0.75',\n",
    "               'linestyle' : ':' }\n",
    "font_style = { 'size'      : '14' }\n",
    "\n",
    "mpl.rc('font', **font_style)\n",
    "mpl.rc('axes', **axes_style)\n",
    "mpl.rc('grid', **grid_style)"
   ]
  },
  {
   "cell_type": "code",
   "execution_count": 4,
   "id": "04801d98",
   "metadata": {},
   "outputs": [],
   "source": [
    "fmu_neg, fmu_fast = 0.066, 0.072\n",
    "f_ratio = fmu_fast/fmu_neg"
   ]
  },
  {
   "cell_type": "code",
   "execution_count": 5,
   "id": "f710d461",
   "metadata": {},
   "outputs": [],
   "source": [
    "mu_neg_file, mu_fast_file = 'models/balco_14co_delta_neg_models.fits', 'models/balco_14co_delta_fast_models.fits'"
   ]
  },
  {
   "cell_type": "code",
   "execution_count": 6,
   "id": "6efb8baa",
   "metadata": {},
   "outputs": [],
   "source": [
    "hdus_neg = fits.open(mu_neg_file)\n",
    "\n",
    "# Set up mu_neg 14CO profiles.\n",
    "z_neg = hdus_neg['DEPTH'].data\n",
    "co14_neg = hdus_neg['CO14'].data\n",
    "t_spike_neg = hdus_neg['T_SPIKE'].data['T_SPIKE']\n",
    "\n",
    "order = np.argsort(-t_spike_neg)\n",
    "\n",
    "z = z_neg\n",
    "t = np.array(t_spike_neg[order])\n",
    "CO_neg = np.array(co14_neg[order])#[:,1:]\n",
    "\n",
    "\n",
    "hdus_fast = fits.open(mu_fast_file)\n",
    "\n",
    "# Set up mu_fast 14CO profiles.\n",
    "z_fast = hdus_fast['DEPTH'].data\n",
    "co14_fast = hdus_fast['CO14'].data\n",
    "t_spike_fast = hdus_fast['T_SPIKE'].data['T_SPIKE']\n",
    "\n",
    "order = np.argsort(-t_spike_fast)\n",
    "\n",
    "# axis0 = time, axis1 = depth\n",
    "CO_fast = np.array(co14_fast[order])#[:,1:]\n",
    "        \n",
    "# axis0: depth, axis1: time\n",
    "G = np.append(CO_neg, CO_fast, axis=0).T\n",
    "        \n",
    "step = int(20 / np.diff(z)[0])\n",
    "i = np.arange(0, len(G), step)\n",
    "i = np.append(i,len(G))\n",
    "\n",
    "comp = np.zeros((len(i)-1, len(G)))\n",
    "for x in range(len(i)-1):\n",
    "    comp[x, i[x]:i[x+1]] = 1/(i[x+1]-i[x])\n",
    "            \n",
    "z_samp = np.matmul(comp, z)\n",
    "t_samp = np.matmul(comp, np.append(t,[0]))\n",
    "        \n",
    "G_comp = np.matmul(comp, G)"
   ]
  },
  {
   "cell_type": "code",
   "execution_count": 7,
   "id": "c899a791",
   "metadata": {},
   "outputs": [],
   "source": [
    "# Let's setup a prior on f\n",
    "\n",
    "# The prior goes as 1/f\n",
    "# each f value over time is independent of the others\n",
    "# lower bound: 0.0001\n",
    "# upper bound: 1.\n",
    "# p(f) = prod 1/(4log(10) f)\n",
    "\n",
    "# from this prior, we can calculate the prior on our model and the prior on our data\n",
    "\n",
    "f_low = 0.\n",
    "f_high = 1.\n",
    "#norm = np.log(f_high)-np.log(f_low)\n",
    "norm = f_high - f_low\n",
    "\n",
    "# building prior on CO' from prior on f\n",
    "# average f = (upper bound - lower bound) / (log upper bound - log lower bound) = 0.9999 / 4log(10)\n",
    "# var f = (upper bound^2 - lower bound^2) / 2(log upper bound - log lower bound) - (average f)^2\n",
    "\n",
    "#f_avg = (f_high - f_low) / norm\n",
    "#f_var = (f_high**2 - f_low**2) / (2*norm) - f_avg**2\n",
    "\n",
    "f_avg = (f_high + f_low)/2\n",
    "f_var = (f_high - f_low)**2/12"
   ]
  },
  {
   "cell_type": "code",
   "execution_count": 8,
   "id": "bb85deb7",
   "metadata": {},
   "outputs": [],
   "source": [
    "# Model definition\n",
    "\n",
    "f_0 = np.append(0*t + fmu_neg, 0*t + fmu_fast)\n",
    "f_bound = 0.015\n",
    "\n",
    "#f_cov = np.diag((f_0*f_bound)**2/3)\n",
    "\n",
    "f_cov = np.zeros((len(f_0),len(f_0)))\n",
    "f_cov[:len(f_0),:len(f_0)] = (fmu_neg*f_bound)**2/3\n",
    "f_cov[len(f_0):,len(f_0):] = (fmu_fast*f_bound)**2/3"
   ]
  },
  {
   "cell_type": "code",
   "execution_count": 9,
   "id": "fb618ccd",
   "metadata": {},
   "outputs": [],
   "source": [
    "CO_0 = np.matmul(G_comp, f_0)\n",
    "\n",
    "M_cov = np.matmul(G_comp, np.matmul(f_cov, G_comp.T)) # model covariance matrix"
   ]
  },
  {
   "cell_type": "code",
   "execution_count": 10,
   "id": "241ec180",
   "metadata": {},
   "outputs": [],
   "source": [
    "pCO = np.matmul(G_comp, np.full(len(f_0), f_avg))\n",
    "\n",
    "pf_cov = np.diag(np.full(len(f_0), f_var))\n",
    "pCO_cov = np.matmul(G_comp, np.matmul(pf_cov, G_comp.T))"
   ]
  },
  {
   "cell_type": "code",
   "execution_count": 11,
   "id": "08bcc559",
   "metadata": {},
   "outputs": [],
   "source": [
    "#logpM = log_gauss(CO_0 - pCO, M_cov + pCO_cov)\n",
    "\n",
    "#logpM = np.sum(np.log((np.log(np.ones(len(f_0))+f_bound) - np.log(np.ones(len(f_0))-f_bound)) / norm)) # probability of Model given prior\n",
    "logpM = np.sum(np.log(2*f_0*f_bound)-np.log(norm))"
   ]
  },
  {
   "cell_type": "code",
   "execution_count": 12,
   "id": "eadc5b25",
   "metadata": {},
   "outputs": [
    {
     "data": {
      "text/plain": [
       "-90034.67089504427"
      ]
     },
     "execution_count": 12,
     "metadata": {},
     "output_type": "execute_result"
    }
   ],
   "source": [
    "logpM"
   ]
  },
  {
   "cell_type": "code",
   "execution_count": 13,
   "id": "78dcd095",
   "metadata": {},
   "outputs": [],
   "source": [
    "generator = COGenerator(mu_neg_file, mu_fast_file)"
   ]
  },
  {
   "cell_type": "code",
   "execution_count": 14,
   "id": "299ac1af",
   "metadata": {},
   "outputs": [
    {
     "data": {
      "text/plain": [
       "<matplotlib.lines.Line2D at 0x26c707de8b0>"
      ]
     },
     "execution_count": 14,
     "metadata": {},
     "output_type": "execute_result"
    },
    {
     "data": {
      "image/png": "[encoded data removed]",
      "text/plain": [
       "<Figure size 432x288 with 1 Axes>"
      ]
     },
     "metadata": {
      "needs_background": "light"
     },
     "output_type": "display_data"
    }
   ],
   "source": [
    "t_scale = (t-t[0])/(t[0]-t[-1])\n",
    "\n",
    "#amp = 1-0.5*t_scale\n",
    "#amp = 1-0.1*np.sin(np.pi*t_scale)\n",
    "amp = np.ones(len(t))\n",
    "\n",
    "f_neg = fmu_neg*amp\n",
    "f_fast = fmu_fast*amp\n",
    "\n",
    "plt.plot(t,f_neg)\n",
    "plt.axhline(fmu_neg, ls='--', c='red')"
   ]
  },
  {
   "cell_type": "code",
   "execution_count": 15,
   "id": "328a904b",
   "metadata": {},
   "outputs": [],
   "source": [
    "# we need to flip f_neg and f_fast because the profile generator doesn't expect time to be in reverse order.\n",
    "const_profile = generator.generate(f_neg = np.flip(f_neg), f_fast = np.flip(f_fast), rel_uncertainty=0.02)"
   ]
  },
  {
   "cell_type": "code",
   "execution_count": 16,
   "id": "92abe8d0",
   "metadata": {},
   "outputs": [],
   "source": [
    "z_samp2, CO_samp, dCO_samp = const_profile.sample_z()\n",
    "\n",
    "S_cov = np.diag(dCO_samp**2) # sample covariance matrix"
   ]
  },
  {
   "cell_type": "code",
   "execution_count": 17,
   "id": "69f8b69e",
   "metadata": {},
   "outputs": [],
   "source": [
    "logL = log_gauss(CO_samp - CO_0, S_cov + M_cov)"
   ]
  },
  {
   "cell_type": "code",
   "execution_count": 18,
   "id": "9ca830c8",
   "metadata": {},
   "outputs": [
    {
     "data": {
      "text/plain": [
       "-7.072992969511304"
      ]
     },
     "execution_count": 18,
     "metadata": {},
     "output_type": "execute_result"
    }
   ],
   "source": [
    "logL"
   ]
  },
  {
   "cell_type": "code",
   "execution_count": 19,
   "id": "20563b63",
   "metadata": {},
   "outputs": [],
   "source": [
    "logpS = log_gauss(CO_samp - pCO, S_cov + pCO_cov)"
   ]
  },
  {
   "cell_type": "code",
   "execution_count": 20,
   "id": "ee23a1af",
   "metadata": {},
   "outputs": [
    {
     "data": {
      "text/plain": [
       "-13922.747812549615"
      ]
     },
     "execution_count": 20,
     "metadata": {},
     "output_type": "execute_result"
    }
   ],
   "source": [
    "logpS"
   ]
  },
  {
   "cell_type": "code",
   "execution_count": 21,
   "id": "e8d8c801",
   "metadata": {},
   "outputs": [],
   "source": [
    "prob = np.exp(logL + logpM - logpS)"
   ]
  },
  {
   "cell_type": "code",
   "execution_count": 22,
   "id": "07bfce99",
   "metadata": {},
   "outputs": [
    {
     "data": {
      "text/plain": [
       "0.0"
      ]
     },
     "execution_count": 22,
     "metadata": {},
     "output_type": "execute_result"
    }
   ],
   "source": [
    "prob"
   ]
  },
  {
   "cell_type": "code",
   "execution_count": 23,
   "id": "02a85f9f",
   "metadata": {},
   "outputs": [
    {
     "data": {
      "text/plain": [
       "Text(0.5, 1.0, 'Constant CO Profile Sample')"
      ]
     },
     "execution_count": 23,
     "metadata": {},
     "output_type": "execute_result"
    },
    {
     "data": {
      "image/png": "[encoded data removed]",
      "text/plain": [
       "<Figure size 432x360 with 1 Axes>"
      ]
     },
     "metadata": {
      "needs_background": "light"
     },
     "output_type": "display_data"
    }
   ],
   "source": [
    "z_samp2, CO_samp, dCO_samp = const_profile.sample_z()\n",
    "\n",
    "fig, ax = plt.subplots(1,1, figsize=(6,5), tight_layout=True)\n",
    "ax.plot(const_profile.z, const_profile.CO, 'r--', label='constant model')\n",
    "ax.errorbar(z_samp2, CO_samp, yerr=dCO_samp, fmt='.')\n",
    "ax.errorbar(z_samp, pCO, yerr=np.sqrt(np.diag(pCO_cov)), fmt='.')\n",
    "ax.errorbar(z_samp, CO_0, yerr=np.sqrt(np.diag(M_cov)), fmt='.')\n",
    "ax.set(xlim=(90,300),\n",
    "        xlabel='depth [m]',\n",
    "        ylim=(0,35),\n",
    "        ylabel=r'$^{14}$CO concentration [molecule g$^{-1}$]')\n",
    "ax.legend(loc='lower right', fontsize=10)\n",
    "plt.title('Constant CO Profile Sample')"
   ]
  },
  {
   "cell_type": "code",
   "execution_count": 65,
   "id": "23d6defc",
   "metadata": {},
   "outputs": [],
   "source": [
    "# constant model\n",
    "\n",
    "# function paramters:\n",
    "# 0 : height in f_neg\n",
    "# 1 : height in f_fast\n",
    "\n",
    "h_neg = np.append(np.ones(len(t)), np.zeros(len(t)))\n",
    "h_fast = np.append(np.zeros(len(t)), np.ones(len(t)))\n",
    "\n",
    "const_func = np.matmul(G_comp, np.array([h_neg, h_fast]).T)\n",
    "\n",
    "h_neg_min, h_neg_max = 0.06, 0.08\n",
    "h_fast_min, h_fast_max = 0.06, 0.08\n",
    "\n",
    "h_neg_avg, h_neg_var = unif_dist(h_neg_min, h_neg_max)\n",
    "h_fast_avg, h_fast_var = unif_dist(h_fast_min, h_fast_max)\n",
    "\n",
    "const_cov_param = np.diag([h_neg_var, h_fast_var])\n",
    "const_avg_param = np.array([h_neg_avg, h_fast_avg])\n",
    "\n",
    "const_cov = np.matmul(const_func, np.matmul(const_cov_param, const_func.T))\n",
    "const_avg = np.matmul(const_func, const_avg_param)"
   ]
  },
  {
   "cell_type": "code",
   "execution_count": 53,
   "id": "0474c62e",
   "metadata": {},
   "outputs": [],
   "source": [
    "# linear model\n",
    "\n",
    "# function parameters:\n",
    "# 0 : height in f_neg\n",
    "# 1 : height in f_fast\n",
    "# 2 : slope in f_neg\n",
    "# 3 : slope in f_fast\n",
    "\n",
    "t_scale = (t-t[0])/(t[0]-t[-1])\n",
    "\n",
    "h_neg = np.append(np.ones(len(t)), np.zeros(len(t)))\n",
    "h_fast = np.append(np.zeros(len(t)), np.ones(len(t)))\n",
    "s_neg = np.append(t_scale, np.zeros(len(t)))\n",
    "s_fast = np.append(np.zeros(len(t)), t_scale)\n",
    "\n",
    "lin_func = np.matmul(G_comp, np.array([h_neg, h_fast, s_neg, s_fast]).T)\n",
    "\n",
    "# s_neg = h_neg * amp\n",
    "# s_fast = h_fast * amp\n",
    "# h_neg, h_fast, and amp are all independent (assume)\n",
    "\n",
    "h_neg_min, h_neg_max = 0.06, 0.08\n",
    "h_fast_min, h_fast_max = 0.06, 0.08\n",
    "amp_min, amp_max = -0.5, 0.5\n",
    "\n",
    "h_neg_avg, h_neg_var = unif_dist(h_neg_min, h_neg_max)\n",
    "h_fast_avg, h_fast_var = unif_dist(h_fast_min, h_fast_max)\n",
    "amp_avg, amp_var = unif_dist(amp_min, amp_max)\n",
    "\n",
    "lin_cov_param = np.zeros((4, 4))\n",
    "\n",
    "# var(s_neg) = <s_neg^2> - <s_neg>^2 = <h_neg^2> <amp^2> - <h_neg>^2 <amp>^2 = var(h_neg) var(amp) + var(h_neg) <amp>^2 + <h_neg>^2 var(amp)\n",
    "# cov(s_neg, h_neg) = <s_neg h_neg> - <s_neg> <h_neg> = <h_neg^2 amp> - <h_neg amp> <h_neg> = (<h_neg^2> - <h_neg>^2) <amp>\n",
    "# cov(s_fast, h_fast) = var(h_neg) <amp>\n",
    "# cov(s_fast, s_neg) = var(amp) <h_fast> <h_neg>\n",
    "\n",
    "lin_cov_param[0,0] = h_neg_var\n",
    "\n",
    "lin_cov_param[1,1] = h_fast_var\n",
    "\n",
    "lin_cov_param[2,2] = h_neg_var * amp_var + h_neg_var * amp_avg + h_neg_avg * amp_var\n",
    "lin_cov_param[2,0] = h_neg_var * amp_avg\n",
    "lin_cov_param[0,2] = lin_cov_param[2,0]\n",
    "\n",
    "lin_cov_param[3,3] = h_fast_var * amp_var + h_fast_var * amp_avg + h_fast_avg * amp_var\n",
    "lin_cov_param[3,1] = h_fast_var * amp_avg\n",
    "lin_cov_param[1,3] = lin_cov_param[3,1]\n",
    "lin_cov_param[3,2] = amp_var * h_fast_avg * h_neg_avg\n",
    "lin_cov_param[2,3] = lin_cov_param[3,2]\n",
    "\n",
    "lin_avg_param = np.array([h_neg_avg, h_fast_avg, h_neg_avg * amp_avg, h_fast_avg * amp_avg])\n",
    "\n",
    "lin_cov = np.matmul(lin_func, np.matmul(lin_cov_param, lin_func.T))\n",
    "lin_avg = np.matmul(lin_func, lin_avg_param)"
   ]
  },
  {
   "cell_type": "code",
   "execution_count": 54,
   "id": "7b967083",
   "metadata": {},
   "outputs": [
    {
     "data": {
      "text/plain": [
       "array([ 0.36463394,  1.16136403,  2.19809933,  3.41648981,  4.71939185,\n",
       "        6.03549853,  7.31639699,  8.53131006,  9.66079476, 10.69326746,\n",
       "       11.62281476, 12.24993165])"
      ]
     },
     "execution_count": 54,
     "metadata": {},
     "output_type": "execute_result"
    }
   ],
   "source": [
    "np.sqrt(np.diag(lin_cov))"
   ]
  },
  {
   "cell_type": "code",
   "execution_count": 55,
   "id": "e4435ea9",
   "metadata": {},
   "outputs": [
    {
     "data": {
      "text/plain": [
       "array([ 5.79288142, 14.10905846, 19.19399097, 22.33133613, 24.22245778,\n",
       "       25.28036426, 25.75258489, 25.82054664, 25.59621567, 25.16047627,\n",
       "       24.57413767, 24.06318514])"
      ]
     },
     "execution_count": 55,
     "metadata": {},
     "output_type": "execute_result"
    }
   ],
   "source": [
    "lin_avg"
   ]
  },
  {
   "cell_type": "code",
   "execution_count": 69,
   "id": "3aed8cd1",
   "metadata": {},
   "outputs": [
    {
     "data": {
      "text/plain": [
       "Text(0.5, 1.0, 'Constant CO Profile Sample')"
      ]
     },
     "execution_count": 69,
     "metadata": {},
     "output_type": "execute_result"
    },
    {
     "data": {
      "image/png": "[encoded data removed]",
      "text/plain": [
       "<Figure size 432x360 with 1 Axes>"
      ]
     },
     "metadata": {
      "needs_background": "light"
     },
     "output_type": "display_data"
    }
   ],
   "source": [
    "z_samp2, CO_samp, dCO_samp = const_profile.sample_z()\n",
    "\n",
    "fig, ax = plt.subplots(1,1, figsize=(6,5), tight_layout=True)\n",
    "ax.plot(const_profile.z, const_profile.CO, 'r--', label='constant model')\n",
    "ax.errorbar(z_samp2, CO_samp, yerr=dCO_samp, fmt='.', label='sample')\n",
    "ax.errorbar(z_samp, pCO, yerr=np.sqrt(np.diag(pCO_cov)), fmt='.', label='prior model')\n",
    "ax.errorbar(z_samp, const_avg, yerr=np.sqrt(np.diag(const_cov)), fmt='.', label='constant model')\n",
    "#ax.errorbar(z_samp, lin_avg, yerr=np.sqrt(np.diag(lin_cov)), fmt='.', label='linear model')\n",
    "ax.set(xlim=(90,300),\n",
    "        xlabel='depth [m]',\n",
    "        ylim=(0,35),\n",
    "        ylabel=r'$^{14}$CO concentration [molecule g$^{-1}$]')\n",
    "ax.legend(loc='lower right', fontsize=10)\n",
    "plt.title('Constant CO Profile Sample')"
   ]
  },
  {
   "cell_type": "code",
   "execution_count": 70,
   "id": "473b685b",
   "metadata": {},
   "outputs": [
    {
     "data": {
      "text/plain": [
       "17.73570558131581"
      ]
     },
     "execution_count": 70,
     "metadata": {},
     "output_type": "execute_result"
    }
   ],
   "source": [
    "np.exp(log_gauss(const_avg - CO_samp, const_cov + S_cov)-log_gauss(lin_avg - CO_samp, lin_cov + S_cov))"
   ]
  },
  {
   "cell_type": "code",
   "execution_count": 74,
   "id": "d37cc9b0",
   "metadata": {},
   "outputs": [
    {
     "data": {
      "text/plain": [
       "122.23454479690776"
      ]
     },
     "execution_count": 74,
     "metadata": {},
     "output_type": "execute_result"
    }
   ],
   "source": [
    "log_gauss(const_avg - lin_avg, const_cov + lin_cov)"
   ]
  },
  {
   "cell_type": "code",
   "execution_count": null,
   "id": "0e135096",
   "metadata": {},
   "outputs": [],
   "source": []
  }
 ],
 "metadata": {
  "kernelspec": {
   "display_name": "Python 3 (ipykernel)",
   "language": "python",
   "name": "python3"
  },
  "language_info": {
   "codemirror_mode": {
    "name": "ipython",
    "version": 3
   },
   "file_extension": ".py",
   "mimetype": "text/x-python",
   "name": "python",
   "nbconvert_exporter": "python",
   "pygments_lexer": "ipython3",
   "version": "3.9.7"
  }
 },
 "nbformat": 4,
 "nbformat_minor": 5
}
