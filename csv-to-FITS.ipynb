{
 "cells": [
  {
   "cell_type": "code",
   "execution_count": 1,
   "id": "1802329c",
   "metadata": {},
   "outputs": [],
   "source": [
    "import pandas as pd\n",
    "import numpy as np\n",
    "import matplotlib.pyplot as plt\n",
    "from astropy.io import fits\n",
    "from tqdm import tqdm\n",
    "import os\n",
    "\n",
    "import random"
   ]
  },
  {
   "cell_type": "code",
   "execution_count": 2,
   "id": "1a7f5126",
   "metadata": {},
   "outputs": [],
   "source": [
    "def convertConstDat():\n",
    "    folder = 'matlab/const_models_2sigma_hull'\n",
    "    files = os.listdir(folder)\n",
    "    fneg = []\n",
    "    ffast = []\n",
    "    z = []\n",
    "    co = []\n",
    "\n",
    "    for f in tqdm(files):\n",
    "        if f[-4:] == '.csv':\n",
    "            tags = f[:-4].split('_')\n",
    "            fneg.append(float(tags[2]))\n",
    "            ffast.append(float(tags[3]))\n",
    "\n",
    "            data = pd.read_csv(folder+'/'+f)\n",
    "            z.append(data['z'].values)\n",
    "            co.append(data['co14_co'].values)\n",
    "\n",
    "    depth = np.array(z[0])\n",
    "    co14 = np.array(co)\n",
    "    fneg = np.array(fneg)\n",
    "    ffast = np.array(ffast)\n",
    "\n",
    "    depthHDU = fits.PrimaryHDU(data=depth)\n",
    "    depthHDU.header['EXTNAME'] = 'DEPTH'\n",
    "    depthHDU.header['BUNIT'] = 'meter'\n",
    "\n",
    "    co14HDU = fits.ImageHDU(data=co14)\n",
    "    co14HDU.header['EXTNAME'] = 'CO14'\n",
    "    co14HDU.header['BUNIT'] = '1/gram'\n",
    "\n",
    "    col2 = fits.Column(name='FOMUNEG', format='D', array=fneg)\n",
    "    col3 = fits.Column(name='FOMUFAST', format='D', array=ffast)\n",
    "    cols = fits.ColDefs([col2,col3])\n",
    "    fofactorsHDU = fits.BinTableHDU.from_columns(cols)\n",
    "    fofactorsHDU.header['EXTNAME'] = 'FOFACTOR'\n",
    "    fofactorsHDU.header['N_FONEG'] = len(np.unique(fneg))\n",
    "    fofactorsHDU.header['N_FOFAST'] = len(np.unique(ffast))\n",
    "    fofactorsHDU.header['FNEGMIN'] = min(fneg)\n",
    "    fofactorsHDU.header['FNEGMAX'] = max(fneg)\n",
    "    fofactorsHDU.header['DELTNEG'] = np.diff(np.sort(np.unique(fneg)))[0] if len(np.unique(fneg))>1 else 0.\n",
    "    fofactorsHDU.header['FFASTMIN'] = min(ffast)\n",
    "    fofactorsHDU.header['FFASTMAX'] = max(ffast)\n",
    "    fofactorsHDU.header['DELTFAST'] = np.diff(np.sort(np.unique(ffast)))[0] if len(np.unique(ffast))>1 else 0.\n",
    "\n",
    "    hdul = fits.HDUList([depthHDU, co14HDU, fofactorsHDU])\n",
    "\n",
    "    outfile = 'FITS_models/balco_14co_const_models.fits'\n",
    "    hdul.writeto(outfile)"
   ]
  },
  {
   "cell_type": "code",
   "execution_count": 3,
   "id": "cd552e1c",
   "metadata": {},
   "outputs": [],
   "source": [
    "def convertVarDat(style='linear', fixed='past', f_factors='const', null='null-in'):\n",
    "    if fixed=='pres':\n",
    "        folder = 'matlab/{}_models_fix'.format(style)\n",
    "    else:\n",
    "        folder = 'matlab/{}_models'.format(style)\n",
    "    files = os.listdir(folder)\n",
    "    amp = []\n",
    "    fneg = []\n",
    "    ffast = []\n",
    "    z = []\n",
    "    co = []\n",
    "\n",
    "    for f in tqdm(files):\n",
    "        if f[-4:] == '.csv':\n",
    "            tags = f[:-4].split('_')\n",
    "            if f_factors=='all' or (float(tags[3])==0.066 and float(tags[4])==0.072):\n",
    "                if null=='null-in' or float(tags[2])!=1.:\n",
    "                    amp.append(float(tags[2]))\n",
    "                    fneg.append(float(tags[3]))\n",
    "                    ffast.append(float(tags[4]))\n",
    "\n",
    "                    data = pd.read_csv(folder+'/'+f)\n",
    "                    z.append(data['z'].values)\n",
    "                    co.append(data['co14_co'].values)\n",
    "\n",
    "    depth = np.array(z[0])\n",
    "    co14 = np.array(co)\n",
    "    ampl = np.array(amp)\n",
    "    fneg = np.array(fneg)\n",
    "    ffast = np.array(ffast)\n",
    "\n",
    "    depthHDU = fits.PrimaryHDU(data=depth)\n",
    "    depthHDU.header['EXTNAME'] = 'DEPTH'\n",
    "    depthHDU.header['BUNIT'] = 'meter'\n",
    "\n",
    "    co14HDU = fits.ImageHDU(data=co14)\n",
    "    co14HDU.header['EXTNAME'] = 'CO14'\n",
    "    co14HDU.header['BUNIT'] = '1/gram'\n",
    "\n",
    "    col1 = fits.Column(name='AMPL', format='D', array=ampl)\n",
    "    cols = fits.ColDefs([col1])\n",
    "    amplHDU = fits.BinTableHDU.from_columns(cols)\n",
    "    amplHDU.header['EXTNAME'] = 'AMPL'\n",
    "    amplHDU.header['N_AMPL'] = len(np.unique(ampl))\n",
    "    amplHDU.header['AMPLMIN'] = min(ampl)\n",
    "    amplHDU.header['AMPLMAX'] = max(ampl)\n",
    "    amplHDU.header['DELTAMPL'] = np.diff(np.sort(np.unique(ampl)))[0] if len(np.unique(ampl))>1 else 0.\n",
    "\n",
    "    col2 = fits.Column(name='FOMUNEG', format='D', array=fneg)\n",
    "    col3 = fits.Column(name='FOMUFAST', format='D', array=ffast)\n",
    "    cols = fits.ColDefs([col2,col3])\n",
    "    fofactorsHDU = fits.BinTableHDU.from_columns(cols)\n",
    "    fofactorsHDU.header['EXTNAME'] = 'FOFACTOR'\n",
    "    fofactorsHDU.header['N_FONEG'] = len(np.unique(fneg))\n",
    "    fofactorsHDU.header['N_FOFAST'] = len(np.unique(ffast))\n",
    "    fofactorsHDU.header['FNEGMIN'] = min(fneg)\n",
    "    fofactorsHDU.header['FNEGMAX'] = max(fneg)\n",
    "    fofactorsHDU.header['DELTNEG'] = np.diff(np.sort(np.unique(fneg)))[0] if len(np.unique(fneg))>1 else 0.\n",
    "    fofactorsHDU.header['FFASTMIN'] = min(ffast)\n",
    "    fofactorsHDU.header['FFASTMAX'] = max(ffast)\n",
    "    fofactorsHDU.header['DELTFAST'] = np.diff(np.sort(np.unique(ffast)))[0] if len(np.unique(ffast))>1 else 0.\n",
    "\n",
    "\n",
    "    hdul = fits.HDUList([depthHDU, co14HDU, amplHDU, fofactorsHDU])\n",
    "    \n",
    "    if style=='burst':\n",
    "        outfile = 'FITS_models/balco_14co_burst_models_{}.fits'.format(f_factors)\n",
    "    else:\n",
    "        outfile = 'FITS_models/balco_14co_{}_models_{}_{}_{}.fits'.format(style, fixed, f_factors, null)\n",
    "    hdul.writeto(outfile)"
   ]
  },
  {
   "cell_type": "code",
   "execution_count": 4,
   "id": "c326bc45",
   "metadata": {},
   "outputs": [],
   "source": [
    "def convertDeltaDat(style='neg'):\n",
    "    folder = 'matlab/delta_{}_models'.format(style)\n",
    "    files = os.listdir(folder)\n",
    "    t = []\n",
    "    fneg = []\n",
    "    ffast = []\n",
    "    z = []\n",
    "    co = []\n",
    "\n",
    "    for f in tqdm(files):\n",
    "        if f[-4:] == '.csv':\n",
    "            tags = f[:-4].split('_')\n",
    "            t.append(float(tags[2]))\n",
    "            fneg.append(float(tags[3]))\n",
    "            ffast.append(float(tags[4]))\n",
    "\n",
    "            data = pd.read_csv(folder+'/'+f)\n",
    "            z.append(data['z'].values)\n",
    "            co.append(data['co14_co'].values)\n",
    "\n",
    "    depth = np.array(z[0])\n",
    "    co14 = np.array(co)\n",
    "    t_spike = np.array(t)\n",
    "    fneg = np.array(fneg)\n",
    "    ffast = np.array(ffast)\n",
    "\n",
    "    depthHDU = fits.PrimaryHDU(data=depth)\n",
    "    depthHDU.header['EXTNAME'] = 'DEPTH'\n",
    "    depthHDU.header['BUNIT'] = 'meter'\n",
    "\n",
    "    co14HDU = fits.ImageHDU(data=co14)\n",
    "    co14HDU.header['EXTNAME'] = 'CO14'\n",
    "    co14HDU.header['BUNIT'] = '1/gram'\n",
    "\n",
    "    col1 = fits.Column(name='T_SPIKE', format='D', array=t_spike)\n",
    "    cols = fits.ColDefs([col1])\n",
    "    timeHDU = fits.BinTableHDU.from_columns(cols)\n",
    "    timeHDU.header['EXTNAME'] = 'T_SPIKE'\n",
    "    timeHDU.header['N_TIME'] = len(np.unique(t_spike))\n",
    "    timeHDU.header['T_MIN'] = min(t_spike)\n",
    "    timeHDU.header['T_MAX'] = max(t_spike)\n",
    "    timeHDU.header['DELTA_T'] = np.diff(np.sort(np.unique(t_spike)))[0] if len(np.unique(t_spike))>1 else 0.\n",
    "\n",
    "    col2 = fits.Column(name='FOMUNEG', format='D', array=fneg)\n",
    "    col3 = fits.Column(name='FOMUFAST', format='D', array=ffast)\n",
    "    cols = fits.ColDefs([col2,col3])\n",
    "    fofactorsHDU = fits.BinTableHDU.from_columns(cols)\n",
    "    fofactorsHDU.header['EXTNAME'] = 'FOFACTOR'\n",
    "    fofactorsHDU.header['N_FONEG'] = len(np.unique(fneg))\n",
    "    fofactorsHDU.header['N_FOFAST'] = len(np.unique(ffast))\n",
    "    fofactorsHDU.header['FNEGMIN'] = min(fneg)\n",
    "    fofactorsHDU.header['FNEGMAX'] = max(fneg)\n",
    "    fofactorsHDU.header['DELTNEG'] = np.diff(np.sort(np.unique(fneg)))[0] if len(np.unique(fneg))>1 else 0.\n",
    "    fofactorsHDU.header['FFASTMIN'] = min(ffast)\n",
    "    fofactorsHDU.header['FFASTMAX'] = max(ffast)\n",
    "    fofactorsHDU.header['DELTFAST'] = np.diff(np.sort(np.unique(ffast)))[0] if len(np.unique(ffast))>1 else 0.\n",
    "\n",
    "\n",
    "    hdul = fits.HDUList([depthHDU, co14HDU, timeHDU, fofactorsHDU])\n",
    "\n",
    "    outfile = 'FITS_models/balco_14co_delta_{}_models.fits'.format(style)\n",
    "    hdul.writeto(outfile)"
   ]
  },
  {
   "cell_type": "code",
   "execution_count": 8,
   "id": "88a8c5e6",
   "metadata": {},
   "outputs": [
    {
     "name": "stderr",
     "output_type": "stream",
     "text": [
      "100%|███████████████████████████████████████████████████████████████████████████████| 118/118 [00:00<00:00, 267.57it/s]\n"
     ]
    }
   ],
   "source": [
    "convertConstDat()"
   ]
  },
  {
   "cell_type": "code",
   "execution_count": 6,
   "id": "04ce0526",
   "metadata": {},
   "outputs": [
    {
     "name": "stderr",
     "output_type": "stream",
     "text": [
      "100%|█████████████████████████████████████████████████████████████████████████| 11918/11918 [00:00<00:00, 23788.25it/s]\n",
      "100%|████████████████████████████████████████████████████████████████████████████| 11918/11918 [02:31<00:00, 78.61it/s]\n",
      "100%|██████████████████████████████████████████████████████████████████████████| 11918/11918 [00:02<00:00, 5261.73it/s]\n",
      "100%|████████████████████████████████████████████████████████████████████████████| 11918/11918 [04:29<00:00, 44.16it/s]\n",
      "100%|██████████████████████████████████████████████████████████████████████████| 11918/11918 [00:01<00:00, 6937.14it/s]\n",
      "100%|████████████████████████████████████████████████████████████████████████████| 11918/11918 [04:09<00:00, 47.83it/s]\n",
      "100%|██████████████████████████████████████████████████████████████████████████| 11918/11918 [00:01<00:00, 6573.62it/s]\n",
      "100%|████████████████████████████████████████████████████████████████████████████| 11918/11918 [04:37<00:00, 42.94it/s]\n"
     ]
    }
   ],
   "source": [
    "for x in ['linear','step']:\n",
    "    for y in ['past','pres']:\n",
    "        for z in ['const','all']:\n",
    "            convertVarDat(x,y,z,'null-out')"
   ]
  },
  {
   "cell_type": "code",
   "execution_count": 10,
   "id": "6112e63a",
   "metadata": {},
   "outputs": [
    {
     "name": "stderr",
     "output_type": "stream",
     "text": [
      "100%|█████████████████████████████████████████████████████████████████████████| 10620/10620 [00:00<00:00, 11944.63it/s]\n",
      "100%|████████████████████████████████████████████████████████████████████████████| 10620/10620 [02:13<00:00, 79.44it/s]\n"
     ]
    }
   ],
   "source": [
    "for x in ['const', 'all']:\n",
    "    convertVarDat('burst', f_factors=x)"
   ]
  },
  {
   "cell_type": "code",
   "execution_count": 13,
   "id": "219b7441",
   "metadata": {},
   "outputs": [
    {
     "name": "stderr",
     "output_type": "stream",
     "text": [
      "100%|█████████████████████████████████████████████████████████████████████████████| 7283/7283 [01:09<00:00, 105.24it/s]\n",
      "100%|█████████████████████████████████████████████████████████████████████████████| 7283/7283 [01:10<00:00, 103.99it/s]\n"
     ]
    }
   ],
   "source": [
    "for x in ['neg','fast']:\n",
    "    convertDeltaDat(x)"
   ]
  },
  {
   "cell_type": "code",
   "execution_count": null,
   "id": "f976e266",
   "metadata": {},
   "outputs": [],
   "source": []
  }
 ],
 "metadata": {
  "kernelspec": {
   "display_name": "Python 3 (ipykernel)",
   "language": "python",
   "name": "python3"
  },
  "language_info": {
   "codemirror_mode": {
    "name": "ipython",
    "version": 3
   },
   "file_extension": ".py",
   "mimetype": "text/x-python",
   "name": "python",
   "nbconvert_exporter": "python",
   "pygments_lexer": "ipython3",
   "version": "3.9.7"
  }
 },
 "nbformat": 4,
 "nbformat_minor": 5
}
